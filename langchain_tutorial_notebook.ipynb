{
  "cells": [
    {
      "cell_type": "markdown",
      "metadata": {
        "id": "view-in-github",
        "colab_type": "text"
      },
      "source": [
        "<a href=\"https://colab.research.google.com/github/takaaki-yayoi/langchain_tutorial/blob/main/langchain_tutorial_notebook.ipynb\" target=\"_parent\"><img src=\"https://colab.research.google.com/assets/colab-badge.svg\" alt=\"Open In Colab\"/></a>"
      ]
    },
    {
      "cell_type": "markdown",
      "metadata": {
        "id": "NTDrBWhAwrrA"
      },
      "source": [
        "# 🦜🔗 LangChain 入門ガイド\n",
        "\n",
        "## 📚 このノートブックについて\n",
        "\n",
        "このノートブックでは、LangChainの基本概念から実践的な使い方まで、段階的に学習していきます。\n",
        "\n",
        "### 学習内容\n",
        "1. **環境構築** - 必要なライブラリのインストール\n",
        "2. **基本概念** - LLM、プロンプトテンプレート、チェーン\n",
        "3. **実践演習** - 簡単なアプリケーションの構築\n",
        "4. **応用例** - RAG（Retrieval-Augmented Generation）の実装\n",
        "\n",
        "---"
      ]
    },
    {
      "cell_type": "markdown",
      "metadata": {
        "id": "fkkKuR8BwrrC"
      },
      "source": [
        "## 📦 Step 1: 環境セットアップ\n",
        "\n",
        "まずは必要なライブラリをインストールしましょう。Google Colabでは、以下のコマンドを実行するだけで準備完了です。"
      ]
    },
    {
      "cell_type": "code",
      "execution_count": 1,
      "metadata": {
        "colab": {
          "base_uri": "https://localhost:8080/"
        },
        "id": "xOKy7GYkwrrD",
        "outputId": "b8327f66-e3ef-411d-c919-38376e611446"
      },
      "outputs": [
        {
          "output_type": "stream",
          "name": "stdout",
          "text": [
            "\u001b[?25l   \u001b[90m━━━━━━━━━━━━━━━━━━━━━━━━━━━━━━━━━━━━━━━━\u001b[0m \u001b[32m0.0/2.5 MB\u001b[0m \u001b[31m?\u001b[0m eta \u001b[36m-:--:--\u001b[0m\r\u001b[2K   \u001b[91m━━━━━━━━━━━━━━━━━━━━━━━━━━━━━━━━━━━━━━━\u001b[0m\u001b[91m╸\u001b[0m \u001b[32m2.5/2.5 MB\u001b[0m \u001b[31m88.7 MB/s\u001b[0m eta \u001b[36m0:00:01\u001b[0m\r\u001b[2K   \u001b[90m━━━━━━━━━━━━━━━━━━━━━━━━━━━━━━━━━━━━━━━━\u001b[0m \u001b[32m2.5/2.5 MB\u001b[0m \u001b[31m42.9 MB/s\u001b[0m eta \u001b[36m0:00:00\u001b[0m\n",
            "\u001b[2K   \u001b[90m━━━━━━━━━━━━━━━━━━━━━━━━━━━━━━━━━━━━━━━━\u001b[0m \u001b[32m74.5/74.5 kB\u001b[0m \u001b[31m4.3 MB/s\u001b[0m eta \u001b[36m0:00:00\u001b[0m\n",
            "\u001b[2K   \u001b[90m━━━━━━━━━━━━━━━━━━━━━━━━━━━━━━━━━━━━━━━━\u001b[0m \u001b[32m50.9/50.9 kB\u001b[0m \u001b[31m1.5 MB/s\u001b[0m eta \u001b[36m0:00:00\u001b[0m\n",
            "\u001b[2K     \u001b[90m━━━━━━━━━━━━━━━━━━━━━━━━━━━━━━━━━━━━━━━━\u001b[0m \u001b[32m67.3/67.3 kB\u001b[0m \u001b[31m5.0 MB/s\u001b[0m eta \u001b[36m0:00:00\u001b[0m\n",
            "\u001b[?25h  Installing build dependencies ... \u001b[?25l\u001b[?25hdone\n",
            "  Getting requirements to build wheel ... \u001b[?25l\u001b[?25hdone\n",
            "  Preparing metadata (pyproject.toml) ... \u001b[?25l\u001b[?25hdone\n",
            "\u001b[2K   \u001b[90m━━━━━━━━━━━━━━━━━━━━━━━━━━━━━━━━━━━━━━━━\u001b[0m \u001b[32m19.8/19.8 MB\u001b[0m \u001b[31m64.7 MB/s\u001b[0m eta \u001b[36m0:00:00\u001b[0m\n",
            "\u001b[2K   \u001b[90m━━━━━━━━━━━━━━━━━━━━━━━━━━━━━━━━━━━━━━━━\u001b[0m \u001b[32m284.2/284.2 kB\u001b[0m \u001b[31m19.6 MB/s\u001b[0m eta \u001b[36m0:00:00\u001b[0m\n",
            "\u001b[2K   \u001b[90m━━━━━━━━━━━━━━━━━━━━━━━━━━━━━━━━━━━━━━━━\u001b[0m \u001b[32m1.9/1.9 MB\u001b[0m \u001b[31m60.7 MB/s\u001b[0m eta \u001b[36m0:00:00\u001b[0m\n",
            "\u001b[2K   \u001b[90m━━━━━━━━━━━━━━━━━━━━━━━━━━━━━━━━━━━━━━━━\u001b[0m \u001b[32m103.3/103.3 kB\u001b[0m \u001b[31m7.6 MB/s\u001b[0m eta \u001b[36m0:00:00\u001b[0m\n",
            "\u001b[2K   \u001b[90m━━━━━━━━━━━━━━━━━━━━━━━━━━━━━━━━━━━━━━━━\u001b[0m \u001b[32m16.5/16.5 MB\u001b[0m \u001b[31m84.6 MB/s\u001b[0m eta \u001b[36m0:00:00\u001b[0m\n",
            "\u001b[2K   \u001b[90m━━━━━━━━━━━━━━━━━━━━━━━━━━━━━━━━━━━━━━━━\u001b[0m \u001b[32m72.5/72.5 kB\u001b[0m \u001b[31m5.3 MB/s\u001b[0m eta \u001b[36m0:00:00\u001b[0m\n",
            "\u001b[2K   \u001b[90m━━━━━━━━━━━━━━━━━━━━━━━━━━━━━━━━━━━━━━━━\u001b[0m \u001b[32m105.4/105.4 kB\u001b[0m \u001b[31m5.2 MB/s\u001b[0m eta \u001b[36m0:00:00\u001b[0m\n",
            "\u001b[2K   \u001b[90m━━━━━━━━━━━━━━━━━━━━━━━━━━━━━━━━━━━━━━━━\u001b[0m \u001b[32m71.6/71.6 kB\u001b[0m \u001b[31m4.5 MB/s\u001b[0m eta \u001b[36m0:00:00\u001b[0m\n",
            "\u001b[2K   \u001b[90m━━━━━━━━━━━━━━━━━━━━━━━━━━━━━━━━━━━━━━━━\u001b[0m \u001b[32m510.8/510.8 kB\u001b[0m \u001b[31m28.0 MB/s\u001b[0m eta \u001b[36m0:00:00\u001b[0m\n",
            "\u001b[2K   \u001b[90m━━━━━━━━━━━━━━━━━━━━━━━━━━━━━━━━━━━━━━━━\u001b[0m \u001b[32m4.7/4.7 MB\u001b[0m \u001b[31m70.5 MB/s\u001b[0m eta \u001b[36m0:00:00\u001b[0m\n",
            "\u001b[2K   \u001b[90m━━━━━━━━━━━━━━━━━━━━━━━━━━━━━━━━━━━━━━━━\u001b[0m \u001b[32m452.2/452.2 kB\u001b[0m \u001b[31m26.0 MB/s\u001b[0m eta \u001b[36m0:00:00\u001b[0m\n",
            "\u001b[2K   \u001b[90m━━━━━━━━━━━━━━━━━━━━━━━━━━━━━━━━━━━━━━━━\u001b[0m \u001b[32m46.0/46.0 kB\u001b[0m \u001b[31m3.2 MB/s\u001b[0m eta \u001b[36m0:00:00\u001b[0m\n",
            "\u001b[2K   \u001b[90m━━━━━━━━━━━━━━━━━━━━━━━━━━━━━━━━━━━━━━━━\u001b[0m \u001b[32m86.8/86.8 kB\u001b[0m \u001b[31m5.5 MB/s\u001b[0m eta \u001b[36m0:00:00\u001b[0m\n",
            "\u001b[?25h  Building wheel for pypika (pyproject.toml) ... \u001b[?25l\u001b[?25hdone\n",
            "✅ インストール完了！\n"
          ]
        }
      ],
      "source": [
        "# 基本的なLangChainパッケージのインストール\n",
        "!pip install -q langchain langchain-community langchain-openai\n",
        "\n",
        "# 追加の便利なパッケージ\n",
        "!pip install -q chromadb tiktoken python-dotenv\n",
        "\n",
        "print(\"✅ インストール完了！\")"
      ]
    },
    {
      "cell_type": "markdown",
      "metadata": {
        "id": "YKHGYqXPwrrD"
      },
      "source": [
        "### 🔑 API キーの設定\n",
        "\n",
        "LangChainでLLMを使用するには、APIキーが必要です。ここではOpenAIを例に設定方法を説明します。\n",
        "\n",
        "**重要**: APIキーは絶対に公開しないでください！"
      ]
    },
    {
      "cell_type": "code",
      "execution_count": 3,
      "metadata": {
        "colab": {
          "base_uri": "https://localhost:8080/"
        },
        "id": "pLzuOQuzwrrD",
        "outputId": "dc8e5cd2-133e-44fe-f9a4-e593e0a84553"
      },
      "outputs": [
        {
          "output_type": "stream",
          "name": "stdout",
          "text": [
            "✅ APIキーが設定されました\n"
          ]
        }
      ],
      "source": [
        "import os\n",
        "from getpass import getpass\n",
        "\n",
        "# Google Colabのシークレット機能を使うか、直接入力\n",
        "# 方法1: 直接入力（セキュアな入力）\n",
        "#os.environ[\"openai_api_key\"] = getpass(\"OpenAI APIキーを入力してください: \")\n",
        "\n",
        "# 方法2: Google Colabのシークレット機能を使う場合\n",
        "from google.colab import userdata\n",
        "os.environ[\"OPENAI_API_KEY\"] = userdata.get('openai_api_key')\n",
        "\n",
        "print(\"✅ APIキーが設定されました\")"
      ]
    },
    {
      "cell_type": "markdown",
      "metadata": {
        "id": "veR9XFSdwrrE"
      },
      "source": [
        "---\n",
        "\n",
        "## 🎯 Step 2: LangChainの基本概念\n",
        "\n",
        "### 2.1 LLM（Large Language Model）の基本\n",
        "\n",
        "LangChainの中心となるのはLLMです。まずは最もシンプルな使い方から始めましょう。"
      ]
    },
    {
      "cell_type": "code",
      "execution_count": 4,
      "metadata": {
        "colab": {
          "base_uri": "https://localhost:8080/"
        },
        "id": "9SK-SlT0wrrE",
        "outputId": "2d3ed61d-896a-4863-85c9-fba81c1a4f46"
      },
      "outputs": [
        {
          "output_type": "stream",
          "name": "stdout",
          "text": [
            "🤖 AIの回答:\n",
            "LangChainは、言語翻訳技術を活用して、異なる言語間でのコミュニケーションを支援するプラットフォームやサービスのことを指します。\n"
          ]
        }
      ],
      "source": [
        "from langchain_openai import ChatOpenAI\n",
        "\n",
        "# LLMの初期化\n",
        "llm = ChatOpenAI(\n",
        "    model=\"gpt-3.5-turbo\",\n",
        "    temperature=0.7,  # 創造性のレベル（0-1）\n",
        ")\n",
        "\n",
        "# シンプルな使用例\n",
        "response = llm.invoke(\"LangChainとは何ですか？日本語で簡潔に説明してください。\")\n",
        "print(\"🤖 AIの回答:\")\n",
        "print(response.content)"
      ]
    },
    {
      "cell_type": "markdown",
      "metadata": {
        "id": "pWpAslvswrrE"
      },
      "source": [
        "### 2.2 プロンプトテンプレート\n",
        "\n",
        "プロンプトテンプレートを使うと、動的にプロンプトを生成できます。これは実際のアプリケーション開発で非常に重要です。"
      ]
    },
    {
      "cell_type": "code",
      "execution_count": 5,
      "metadata": {
        "colab": {
          "base_uri": "https://localhost:8080/"
        },
        "id": "n6rCr87cwrrE",
        "outputId": "af1ba75f-bbf4-44e9-ce79-46b66c2ab0d4"
      },
      "outputs": [
        {
          "output_type": "stream",
          "name": "stdout",
          "text": [
            "🎓 カスタマイズされた回答:\n",
            "オブジェクト指向プログラミング（Object-Oriented Programming、OOP）は、プログラミングの考え方の一つで、プログラムをオブジェクトと呼ばれる要素に分割して設計する方法です。\n",
            "\n",
            "オブジェクトは、それぞれ特定の役割や機能を持っており、他のオブジェクトと協力して処理を行います。例えば、自動車というオブジェクトがある場合、そのオブジェクトには「走る」という機能や「色」という特性があると考えることができます。\n",
            "\n",
            "オブジェクト指向プログラミングでは、このようなオブジェクト同士の相互作用を通じてプログラムを構築します。具体的には、クラスという設計図を使ってオブジェクトを作成し、それらのオブジェクト同士がメッセージをやり取りして処理を行います。\n",
            "\n",
            "オブジェクト指向プログラミングの利点として、コードの再利用性や保守性が高くなること、システムの柔軟性や拡張性が向上すること、コードの理解がしやすくなることなどが挙げられます。\n",
            "\n",
            "初心者がオブジェクト指向プログラミングを学ぶ際には、まず基本的な概念や用語を理解し、実際にプログラムを書きながらオブジェクト指向の考え方を体験することが大切です。\n"
          ]
        }
      ],
      "source": [
        "from langchain.prompts import ChatPromptTemplate\n",
        "\n",
        "# テンプレートの作成\n",
        "template = ChatPromptTemplate.from_messages([\n",
        "    (\"system\", \"あなたは{role}の専門家です。\"),\n",
        "    (\"human\", \"{topic}について、初心者にもわかるように説明してください。\")\n",
        "])\n",
        "\n",
        "# テンプレートの使用\n",
        "prompt = template.format_messages(\n",
        "    role=\"プログラミング教育\",\n",
        "    topic=\"オブジェクト指向プログラミング\"\n",
        ")\n",
        "\n",
        "response = llm.invoke(prompt)\n",
        "print(\"🎓 カスタマイズされた回答:\")\n",
        "print(response.content)"
      ]
    },
    {
      "cell_type": "markdown",
      "metadata": {
        "id": "X1HeuI50wrrE"
      },
      "source": [
        "### 2.3 チェーン（Chain）- LangChainの核心\n",
        "\n",
        "チェーンは複数のコンポーネントを連結して、より複雑な処理を実現します。"
      ]
    },
    {
      "cell_type": "code",
      "execution_count": 6,
      "metadata": {
        "colab": {
          "base_uri": "https://localhost:8080/"
        },
        "id": "nJYO5bc_wrrE",
        "outputId": "7f6cea61-a39e-4063-e7c1-6beb2b7f3361"
      },
      "outputs": [
        {
          "output_type": "stream",
          "name": "stderr",
          "text": [
            "/tmp/ipython-input-4102117786.py:10: LangChainDeprecationWarning: The class `LLMChain` was deprecated in LangChain 0.1.17 and will be removed in 1.0. Use :meth:`~RunnableSequence, e.g., `prompt | llm`` instead.\n",
            "  summarize_chain = LLMChain(\n",
            "/tmp/ipython-input-4102117786.py:47: LangChainDeprecationWarning: The method `Chain.__call__` was deprecated in langchain 0.1.0 and will be removed in 1.0. Use :meth:`~invoke` instead.\n",
            "  result = overall_chain({\"text\": sample_text})\n"
          ]
        },
        {
          "output_type": "stream",
          "name": "stdout",
          "text": [
            "\n",
            "\n",
            "\u001b[1m> Entering new SequentialChain chain...\u001b[0m\n",
            "\n",
            "\u001b[1m> Finished chain.\u001b[0m\n",
            "\n",
            "📝 要約結果:\n",
            "LangChainはLLMを利用したアプリケーション開発を簡素化するフレームワーク。\n",
            "プロンプト管理やエージェント作成など、様々な機能を提供。\n",
            "開発者はこれらを組み合わせて複雑なAIアプリケーションを効率的に構築できる。\n",
            "\n",
            "🌐 英語翻訳:\n",
            "LangChain is a framework that simplifies application development using LLM. It provides various functions such as prompt management and agent creation. Developers can efficiently build complex AI applications by combining these functions.\n"
          ]
        }
      ],
      "source": [
        "from langchain.chains import LLMChain\n",
        "from langchain.prompts import PromptTemplate\n",
        "\n",
        "# ステップ1: 要約用のチェーン\n",
        "summarize_template = PromptTemplate(\n",
        "    input_variables=[\"text\"],\n",
        "    template=\"以下のテキストを3行で要約してください:\\n\\n{text}\"\n",
        ")\n",
        "\n",
        "summarize_chain = LLMChain(\n",
        "    llm=llm,\n",
        "    prompt=summarize_template,\n",
        "    output_key=\"summary\"\n",
        ")\n",
        "\n",
        "# ステップ2: 翻訳用のチェーン\n",
        "translate_template = PromptTemplate(\n",
        "    input_variables=[\"summary\"],\n",
        "    template=\"以下の日本語を英語に翻訳してください:\\n\\n{summary}\"\n",
        ")\n",
        "\n",
        "translate_chain = LLMChain(\n",
        "    llm=llm,\n",
        "    prompt=translate_template,\n",
        "    output_key=\"translation\"\n",
        ")\n",
        "\n",
        "# チェーンの連結\n",
        "from langchain.chains import SequentialChain\n",
        "\n",
        "overall_chain = SequentialChain(\n",
        "    chains=[summarize_chain, translate_chain],\n",
        "    input_variables=[\"text\"],\n",
        "    output_variables=[\"summary\", \"translation\"],\n",
        "    verbose=True  # 処理過程を表示\n",
        ")\n",
        "\n",
        "# 実行例\n",
        "sample_text = \"\"\"\n",
        "LangChainは、大規模言語モデル（LLM）を活用したアプリケーション開発を\n",
        "簡素化するためのフレームワークです。プロンプトの管理、チェーンの構築、\n",
        "エージェントの作成、メモリの実装など、LLMアプリケーションに必要な\n",
        "様々な機能を提供しています。開発者は、これらの機能を組み合わせることで、\n",
        "複雑なAIアプリケーションを効率的に構築できます。\n",
        "\"\"\"\n",
        "\n",
        "result = overall_chain({\"text\": sample_text})\n",
        "print(\"\\n📝 要約結果:\")\n",
        "print(result[\"summary\"])\n",
        "print(\"\\n🌐 英語翻訳:\")\n",
        "print(result[\"translation\"])"
      ]
    },
    {
      "cell_type": "markdown",
      "metadata": {
        "id": "kkE22XvIwrrE"
      },
      "source": [
        "---\n",
        "\n",
        "## 🚀 Step 3: 実践的な応用例\n",
        "\n",
        "### 3.1 簡単なQ&Aシステムの構築"
      ]
    },
    {
      "cell_type": "code",
      "execution_count": 7,
      "metadata": {
        "colab": {
          "base_uri": "https://localhost:8080/"
        },
        "id": "OOvY1YYbwrrE",
        "outputId": "206131a9-d3af-4a99-ada5-0bd6ca721924"
      },
      "outputs": [
        {
          "output_type": "stream",
          "name": "stderr",
          "text": [
            "/tmp/ipython-input-2492183815.py:5: LangChainDeprecationWarning: Please see the migration guide at: https://python.langchain.com/docs/versions/migrating_memory/\n",
            "  memory = ConversationBufferMemory()\n",
            "/tmp/ipython-input-2492183815.py:6: LangChainDeprecationWarning: The class `ConversationChain` was deprecated in LangChain 0.2.7 and will be removed in 1.0. Use :class:`~langchain_core.runnables.history.RunnableWithMessageHistory` instead.\n",
            "  conversation = ConversationChain(\n"
          ]
        },
        {
          "output_type": "stream",
          "name": "stdout",
          "text": [
            "💬 会話型AIアシスタント\n",
            "='exit'と入力すると終了します）\n",
            "\n",
            "\n",
            "👤 You: 私の名前は太郎です。プログラミングを勉強しています。\n",
            "\n",
            "\n",
            "\u001b[1m> Entering new ConversationChain chain...\u001b[0m\n",
            "Prompt after formatting:\n",
            "\u001b[32;1m\u001b[1;3mThe following is a friendly conversation between a human and an AI. The AI is talkative and provides lots of specific details from its context. If the AI does not know the answer to a question, it truthfully says it does not know.\n",
            "\n",
            "Current conversation:\n",
            "\n",
            "Human: 私の名前は太郎です。プログラミングを勉強しています。\n",
            "AI:\u001b[0m\n",
            "\n",
            "\u001b[1m> Finished chain.\u001b[0m\n",
            "🤖 AI: こんにちは、太郎さん！プログラミングを勉強しているんですね。どんな言語を勉強していますか？私はPythonやJavaScriptなどの言語に詳しいですよ。何か質問があればお気軽にどうぞ！\n",
            "\n",
            "👤 You: 私の名前を覚えていますか？\n",
            "\n",
            "\n",
            "\u001b[1m> Entering new ConversationChain chain...\u001b[0m\n",
            "Prompt after formatting:\n",
            "\u001b[32;1m\u001b[1;3mThe following is a friendly conversation between a human and an AI. The AI is talkative and provides lots of specific details from its context. If the AI does not know the answer to a question, it truthfully says it does not know.\n",
            "\n",
            "Current conversation:\n",
            "Human: 私の名前は太郎です。プログラミングを勉強しています。\n",
            "AI: こんにちは、太郎さん！プログラミングを勉強しているんですね。どんな言語を勉強していますか？私はPythonやJavaScriptなどの言語に詳しいですよ。何か質問があればお気軽にどうぞ！\n",
            "Human: 私の名前を覚えていますか？\n",
            "AI:\u001b[0m\n",
            "\n",
            "\u001b[1m> Finished chain.\u001b[0m\n",
            "🤖 AI: はい、太郎さんですね！覚えていますよ。他にも何か知りたいことがあればどうぞお尋ねくださいね。\n",
            "\n",
            "👤 You: 私は何を勉強していると言いましたか？\n",
            "\n",
            "\n",
            "\u001b[1m> Entering new ConversationChain chain...\u001b[0m\n",
            "Prompt after formatting:\n",
            "\u001b[32;1m\u001b[1;3mThe following is a friendly conversation between a human and an AI. The AI is talkative and provides lots of specific details from its context. If the AI does not know the answer to a question, it truthfully says it does not know.\n",
            "\n",
            "Current conversation:\n",
            "Human: 私の名前は太郎です。プログラミングを勉強しています。\n",
            "AI: こんにちは、太郎さん！プログラミングを勉強しているんですね。どんな言語を勉強していますか？私はPythonやJavaScriptなどの言語に詳しいですよ。何か質問があればお気軽にどうぞ！\n",
            "Human: 私の名前を覚えていますか？\n",
            "AI: はい、太郎さんですね！覚えていますよ。他にも何か知りたいことがあればどうぞお尋ねくださいね。\n",
            "Human: 私は何を勉強していると言いましたか？\n",
            "AI:\u001b[0m\n",
            "\n",
            "\u001b[1m> Finished chain.\u001b[0m\n",
            "🤖 AI: プログラミングを勉強しているとおっしゃいましたね！プログラミングはとても面白いですよね。何か具体的なことを作成していますか？もしご質問があればお答えしますのでお知らせくださいね。\n"
          ]
        }
      ],
      "source": [
        "from langchain.memory import ConversationBufferMemory\n",
        "from langchain.chains import ConversationChain\n",
        "\n",
        "# メモリ付きの会話チェーンを作成\n",
        "memory = ConversationBufferMemory()\n",
        "conversation = ConversationChain(\n",
        "    llm=llm,\n",
        "    memory=memory,\n",
        "    verbose=True\n",
        ")\n",
        "\n",
        "print(\"💬 会話型AIアシスタント\")\n",
        "print(\"='exit'と入力すると終了します）\\n\")\n",
        "\n",
        "# 会話のデモ\n",
        "questions = [\n",
        "    \"私の名前は太郎です。プログラミングを勉強しています。\",\n",
        "    \"私の名前を覚えていますか？\",\n",
        "    \"私は何を勉強していると言いましたか？\"\n",
        "]\n",
        "\n",
        "for question in questions:\n",
        "    print(f\"\\n👤 You: {question}\")\n",
        "    response = conversation.predict(input=question)\n",
        "    print(f\"🤖 AI: {response}\")"
      ]
    },
    {
      "cell_type": "markdown",
      "metadata": {
        "id": "BTZLGj-xwrrF"
      },
      "source": [
        "### 3.2 ドキュメント分析（簡易RAG）\n",
        "\n",
        "RAG（Retrieval-Augmented Generation）は、外部知識を活用してより正確な回答を生成する技術です。"
      ]
    },
    {
      "cell_type": "code",
      "execution_count": 8,
      "metadata": {
        "colab": {
          "base_uri": "https://localhost:8080/"
        },
        "id": "_1oYzNH5wrrF",
        "outputId": "15a682d9-c030-445e-e607-6b39eb2a4091"
      },
      "outputs": [
        {
          "output_type": "stream",
          "name": "stdout",
          "text": [
            "❓ 質問: LangChainを作った人は誰ですか？\n",
            "\n",
            "💡 回答: LangChainはHarrison Chaseによって作成されました。\n",
            "\n",
            "📚 参照したドキュメント:\n",
            "  - LangChainは2022年10月にHarrison Chaseによって作成されました。\n",
            "    ...\n",
            "  - LangChainは、Python版とJavaScript/TypeScript版が提供されており、...\n",
            "  - LangChainの主な機能には、プロンプトテンプレート、チェーン、\n",
            "    エージェント、メモリ管...\n"
          ]
        }
      ],
      "source": [
        "from langchain.text_splitter import CharacterTextSplitter\n",
        "from langchain_community.vectorstores import Chroma\n",
        "from langchain_openai import OpenAIEmbeddings\n",
        "\n",
        "# サンプルドキュメント\n",
        "documents = [\n",
        "    \"\"\"LangChainは2022年10月にHarrison Chaseによって作成されました。\n",
        "    オープンソースプロジェクトとして、GitHubで公開されています。\"\"\",\n",
        "\n",
        "    \"\"\"LangChainの主な機能には、プロンプトテンプレート、チェーン、\n",
        "    エージェント、メモリ管理などがあります。\"\"\",\n",
        "\n",
        "    \"\"\"LangChainは、Python版とJavaScript/TypeScript版が提供されており、\n",
        "    様々なLLMプロバイダー（OpenAI、Anthropic、Googleなど）に対応しています。\"\"\"\n",
        "]\n",
        "\n",
        "# テキストを小さなチャンクに分割\n",
        "text_splitter = CharacterTextSplitter(chunk_size=100, chunk_overlap=20)\n",
        "texts = text_splitter.create_documents(documents)\n",
        "\n",
        "# ベクトルストアの作成\n",
        "embeddings = OpenAIEmbeddings()\n",
        "vectorstore = Chroma.from_documents(texts, embeddings)\n",
        "\n",
        "# 質問応答チェーンの作成\n",
        "from langchain.chains import RetrievalQA\n",
        "\n",
        "qa_chain = RetrievalQA.from_chain_type(\n",
        "    llm=llm,\n",
        "    chain_type=\"stuff\",\n",
        "    retriever=vectorstore.as_retriever(),\n",
        "    return_source_documents=True\n",
        ")\n",
        "\n",
        "# 質問してみる\n",
        "question = \"LangChainを作った人は誰ですか？\"\n",
        "result = qa_chain({\"query\": question})\n",
        "\n",
        "print(f\"❓ 質問: {question}\")\n",
        "print(f\"\\n💡 回答: {result['result']}\")\n",
        "print(f\"\\n📚 参照したドキュメント:\")\n",
        "for doc in result['source_documents']:\n",
        "    print(f\"  - {doc.page_content[:50]}...\")"
      ]
    },
    {
      "cell_type": "markdown",
      "metadata": {
        "id": "bvg1sZnYwrrF"
      },
      "source": [
        "---\n",
        "\n",
        "## 🎨 Step 4: カスタムツールとエージェント\n",
        "\n",
        "エージェントは、与えられたタスクを達成するために、利用可能なツールを自律的に選択して使用します。"
      ]
    },
    {
      "cell_type": "code",
      "execution_count": 9,
      "metadata": {
        "colab": {
          "base_uri": "https://localhost:8080/"
        },
        "id": "vuFPtuxRwrrF",
        "outputId": "732aba4e-222b-4cba-9e44-0c8c2d165cf6"
      },
      "outputs": [
        {
          "output_type": "stream",
          "name": "stderr",
          "text": [
            "/usr/local/lib/python3.12/dist-packages/langsmith/client.py:272: LangSmithMissingAPIKeyWarning: API key must be provided when using hosted LangSmith API\n",
            "  warnings.warn(\n"
          ]
        },
        {
          "output_type": "stream",
          "name": "stdout",
          "text": [
            "\n",
            "🤔 質問: 15 * 23を計算してください\n",
            "\n",
            "\n",
            "\u001b[1m> Entering new AgentExecutor chain...\u001b[0m\n",
            "\u001b[32;1m\u001b[1;3m数式を計算する必要があります\n",
            "Action: calculate\n",
            "Action Input: '15 * 23'\u001b[0m\u001b[36;1m\u001b[1;3m計算結果: 15 * 23\u001b[0m\u001b[32;1m\u001b[1;3m計算結果が出力されました\n",
            "Final Answer: 345\u001b[0m\n",
            "\n",
            "\u001b[1m> Finished chain.\u001b[0m\n",
            "✅ 結果: 345\n",
            "\n",
            "🤔 質問: 'Hello world this is a test'の単語数を教えてください\n",
            "\n",
            "\n",
            "\u001b[1m> Entering new AgentExecutor chain...\u001b[0m\n",
            "\u001b[32;1m\u001b[1;3mテキストの単語数を数える必要があります。\n",
            "Action: Action Input: get_word_count('Hello world this is a test')\u001b[0m is not a valid tool, try one of [calculate, get_word_count].\u001b[32;1m\u001b[1;3mI made a mistake, I should use get_word_count() instead of calculate().\n",
            "Action: Action Input: get_word_count('Hello world this is a test')\u001b[0m is not a valid tool, try one of [calculate, get_word_count].\u001b[32;1m\u001b[1;3mI need to provide the correct input format for get_word_count().\n",
            "Action: Action Input: get_word_count('Hello world this is a test')\u001b[0m is not a valid tool, try one of [calculate, get_word_count].\u001b[32;1m\u001b[1;3mI made a mistake in the format of the input. I should remove the single quotes around the text.\n",
            "Action: Action Input: get_word_count(Hello world this is a test)\u001b[0m is not a valid tool, try one of [calculate, get_word_count].\u001b[32;1m\u001b[1;3mI need to remember to use quotes around the text input for get_word_count().\n",
            "Action: Action Input: get_word_count(\"Hello world this is a test\")\u001b[0m is not a valid tool, try one of [calculate, get_word_count].\u001b[32;1m\u001b[1;3mI need to remember that the tool get_word_count() doesn't return a string, but rather an integer.\n",
            "Action: Action Input: get_word_count(\"Hello world this is a test\")\u001b[0m is not a valid tool, try one of [calculate, get_word_count].\u001b[32;1m\u001b[1;3mI made a mistake in how I was calling the get_word_count() function. I need to use the correct syntax.\n",
            "Action: Action Input: get_word_count(\"Hello world this is a test\")\u001b[0m is not a valid tool, try one of [calculate, get_word_count].\u001b[32;1m\u001b[1;3mI have been mistakenly trying to use the get_word_count() tool, which is not available. I should use the calculate() tool instead.\n",
            "Action: calculate(\"Hello world this is a test\")\u001b[0mInvalid Format: Missing 'Action Input:' after 'Action:'\u001b[32;1m\u001b[1;3mI made a mistake in my formatting. I need to provide the correct input format for the calculate() tool.\n",
            "Action: Action Input: calculate(\"Hello world this is a test\")\u001b[0m is not a valid tool, try one of [calculate, get_word_count].\u001b[32;1m\u001b[1;3mI have been mistakenly trying to use the get_word_count() tool, which is not available. I should use the calculate() tool instead.\n",
            "Action: calculate(\"Hello world this is a test\")\u001b[0mInvalid Format: Missing 'Action Input:' after 'Action:'\u001b[32;1m\u001b[1;3mI need to provide the correct input format for the calculate() tool.\n",
            "Action: Action Input: calculate(\"Hello world this is a test\")\u001b[0m is not a valid tool, try one of [calculate, get_word_count].\u001b[32;1m\u001b[1;3mI have been trying to use the wrong tool. I need to use the get_word_count() function to count the words in the text.\n",
            "Action: get_word_count(\"Hello world this is a test\")\u001b[0mInvalid Format: Missing 'Action Input:' after 'Action:'\u001b[32;1m\u001b[1;3mI have been consistently making a mistake in my formatting. I should provide the correct input format for the get_word_count() tool.\n",
            "Action: Action Input: get_word_count(\"Hello world this is a test\")\u001b[0m is not a valid tool, try one of [calculate, get_word_count].\u001b[32;1m\u001b[1;3mI have tried using both tools incorrectly. I should correctly use the get_word_count() tool to count the words in the text.\n",
            "Action: get_word_count(\"Hello world this is a test\")\u001b[0mInvalid Format: Missing 'Action Input:' after 'Action:'\u001b[32;1m\u001b[1;3mI am unable to use the tools provided to count the words in the text \"Hello world this is a test\". I should manually count the words in the text.\n",
            "Final Answer: 6\u001b[0m\n",
            "\n",
            "\u001b[1m> Finished chain.\u001b[0m\n",
            "✅ 結果: 6\n"
          ]
        }
      ],
      "source": [
        "from langchain.tools import tool\n",
        "from langchain.agents import create_react_agent, AgentExecutor\n",
        "from langchain import hub\n",
        "\n",
        "# カスタムツールの作成\n",
        "@tool\n",
        "def calculate(expression: str) -> str:\n",
        "    \"\"\"数式を計算します。例: '2 + 2', '10 * 5'\"\"\"\n",
        "    try:\n",
        "        result = eval(expression)\n",
        "        return f\"計算結果: {result}\"\n",
        "    except:\n",
        "        return \"計算エラー: 有効な数式を入力してください\"\n",
        "\n",
        "@tool\n",
        "def get_word_count(text: str) -> str:\n",
        "    \"\"\"テキストの単語数を数えます\"\"\"\n",
        "    words = text.split()\n",
        "    return f\"単語数: {len(words)}語\"\n",
        "\n",
        "# ツールのリスト\n",
        "tools = [calculate, get_word_count]\n",
        "\n",
        "# プロンプトテンプレートの取得（ReActプロンプト）\n",
        "prompt = hub.pull(\"hwchase17/react\")\n",
        "\n",
        "# エージェントの作成\n",
        "agent = create_react_agent(\n",
        "    llm=llm,\n",
        "    tools=tools,\n",
        "    prompt=prompt\n",
        ")\n",
        "\n",
        "# エージェントエグゼキューターの作成\n",
        "agent_executor = AgentExecutor(\n",
        "    agent=agent,\n",
        "    tools=tools,\n",
        "    verbose=True,\n",
        "    handle_parsing_errors=True\n",
        ")\n",
        "\n",
        "# エージェントの実行\n",
        "questions = [\n",
        "    \"15 * 23を計算してください\",\n",
        "    \"'Hello world this is a test'の単語数を教えてください\"\n",
        "]\n",
        "\n",
        "for q in questions:\n",
        "    print(f\"\\n🤔 質問: {q}\")\n",
        "    result = agent_executor.invoke({\"input\": q})\n",
        "    print(f\"✅ 結果: {result['output']}\")"
      ]
    },
    {
      "cell_type": "markdown",
      "metadata": {
        "id": "jaza3rbQwrrF"
      },
      "source": [
        "---\n",
        "\n",
        "## 📊 Step 5: 出力パーサー\n",
        "\n",
        "構造化された出力を得るために、出力パーサーを使用します。"
      ]
    },
    {
      "cell_type": "code",
      "execution_count": 10,
      "metadata": {
        "colab": {
          "base_uri": "https://localhost:8080/"
        },
        "id": "S1x29wNQwrrF",
        "outputId": "ff223243-c448-4a7e-ae40-e7ca34409cac"
      },
      "outputs": [
        {
          "output_type": "stream",
          "name": "stderr",
          "text": [
            "/tmp/ipython-input-1548686155.py:31: LangChainDeprecationWarning: The method `Chain.run` was deprecated in langchain 0.1.0 and will be removed in 1.0. Use :meth:`~invoke` instead.\n",
            "  output = chain.run({})\n"
          ]
        },
        {
          "output_type": "stream",
          "name": "stdout",
          "text": [
            "📚 プログラミング初心者向けおすすめ本\n",
            "\n",
            "1. 『Python言語プログラミング入門』\n",
            "   著者: 宮本和典\n",
            "   難易度: ⭐⭐\n",
            "   理由: Pythonの基本から応用まで丁寧に解説しており、初心者にもわかりやすい内容となっています。\n",
            "\n",
            "2. 『Head First Java 第2版』\n",
            "   著者: Kathy Sierra, Bert Bates\n",
            "   難易度: ⭐⭐⭐\n",
            "   理由: Javaの学習には欠かせない一冊であり、ユーモア溢れる解説が理解を助けてくれます。\n",
            "\n",
            "3. 『JavaScript本格入門』\n",
            "   著者: 山田祥寛\n",
            "   難易度: ⭐⭐⭐\n",
            "   理由: JavaScriptの基本から応用までを網羅した内容であり、実践的な学習ができます。\n",
            "\n"
          ]
        }
      ],
      "source": [
        "from langchain.output_parsers import PydanticOutputParser\n",
        "from pydantic import BaseModel, Field\n",
        "from typing import List\n",
        "\n",
        "# 出力形式の定義\n",
        "class BookRecommendation(BaseModel):\n",
        "    title: str = Field(description=\"本のタイトル\")\n",
        "    author: str = Field(description=\"著者名\")\n",
        "    reason: str = Field(description=\"推薦理由\")\n",
        "    difficulty: int = Field(description=\"難易度（1-5）\")\n",
        "\n",
        "class BookList(BaseModel):\n",
        "    books: List[BookRecommendation] = Field(description=\"推薦書籍のリスト\")\n",
        "\n",
        "# パーサーの作成\n",
        "parser = PydanticOutputParser(pydantic_object=BookList)\n",
        "\n",
        "# プロンプトテンプレート\n",
        "template = PromptTemplate(\n",
        "    template=\"\"\"プログラミング初心者向けの本を3冊推薦してください。\n",
        "\n",
        "{format_instructions}\n",
        "\n",
        "日本語で回答してください。\"\"\",\n",
        "    input_variables=[],\n",
        "    partial_variables={\"format_instructions\": parser.get_format_instructions()}\n",
        ")\n",
        "\n",
        "# チェーンの作成と実行\n",
        "chain = LLMChain(llm=llm, prompt=template)\n",
        "output = chain.run({})\n",
        "\n",
        "# パース\n",
        "try:\n",
        "    result = parser.parse(output)\n",
        "    print(\"📚 プログラミング初心者向けおすすめ本\\n\")\n",
        "    for i, book in enumerate(result.books, 1):\n",
        "        print(f\"{i}. 『{book.title}』\")\n",
        "        print(f\"   著者: {book.author}\")\n",
        "        print(f\"   難易度: {'⭐' * book.difficulty}\")\n",
        "        print(f\"   理由: {book.reason}\\n\")\n",
        "except Exception as e:\n",
        "    print(f\"パースエラー: {e}\")\n",
        "    print(f\"生の出力: {output}\")"
      ]
    },
    {
      "cell_type": "markdown",
      "metadata": {
        "id": "1EOjRfJNwrrF"
      },
      "source": [
        "---\n",
        "\n",
        "## 🏃 練習問題\n",
        "\n",
        "ここまで学んだ内容を活用して、以下の課題に挑戦してみましょう！"
      ]
    },
    {
      "cell_type": "code",
      "execution_count": null,
      "metadata": {
        "id": "J8dBw1AJwrrF"
      },
      "outputs": [],
      "source": [
        "# 練習問題1: 料理レシピ生成チェーンを作成\n",
        "# ヒント: 材料を入力として、レシピを生成するチェーンを作ってみましょう\n",
        "\n",
        "# あなたのコードをここに書いてください\n",
        "recipe_template = PromptTemplate(\n",
        "    input_variables=[\"ingredients\"],\n",
        "    template=\"\"\"以下の材料を使って作れる料理のレシピを1つ提案してください：\n",
        "\n",
        "材料: {ingredients}\n",
        "\n",
        "レシピには以下を含めてください：\n",
        "- 料理名\n",
        "- 必要な調理時間\n",
        "- 手順（箇条書き）\n",
        "- ワンポイントアドバイス\"\"\"\n",
        ")\n",
        "\n",
        "# チェーンを作成して実行してみましょう\n",
        "# recipe_chain = ...\n",
        "# result = ..."
      ]
    },
    {
      "cell_type": "code",
      "execution_count": null,
      "metadata": {
        "id": "8xOOqI-rwrrG"
      },
      "outputs": [],
      "source": [
        "# 練習問題2: 感情分析ツールの作成\n",
        "# ヒント: テキストを入力として、感情（ポジティブ/ネガティブ/中立）を判定\n",
        "\n",
        "# あなたのコードをここに書いてください\n",
        "from enum import Enum\n",
        "\n",
        "class Sentiment(str, Enum):\n",
        "    positive = \"ポジティブ\"\n",
        "    negative = \"ネガティブ\"\n",
        "    neutral = \"中立\"\n",
        "\n",
        "class SentimentAnalysis(BaseModel):\n",
        "    sentiment: Sentiment = Field(description=\"感情の分類\")\n",
        "    confidence: float = Field(description=\"確信度（0-1）\")\n",
        "    explanation: str = Field(description=\"判定理由\")\n",
        "\n",
        "# パーサーとチェーンを作成して実装してみましょう\n",
        "# sentiment_parser = ...\n",
        "# sentiment_chain = ..."
      ]
    },
    {
      "cell_type": "markdown",
      "metadata": {
        "id": "3-06Ahu-wrrG"
      },
      "source": [
        "---\n",
        "\n",
        "## 📚 さらなる学習リソース\n",
        "\n",
        "### 公式ドキュメント\n",
        "- [LangChain Documentation](https://python.langchain.com/docs/get_started/introduction)\n",
        "- [LangChain API Reference](https://api.python.langchain.com/)\n",
        "\n",
        "### 次のステップ\n",
        "1. **より高度なRAGの実装**: より大きなドキュメントセットでの検索\n",
        "2. **カスタムエージェント**: 独自のツールセットを持つエージェントの作成\n",
        "3. **ストリーミング**: リアルタイムレスポンスの実装\n",
        "4. **LangSmith**: デバッグとモニタリング\n",
        "5. **LangServe**: APIとしてのデプロイ\n",
        "\n",
        "### コミュニティ\n",
        "- [GitHub](https://github.com/langchain-ai/langchain)\n",
        "- [Discord](https://discord.gg/langchain)\n",
        "- [Twitter](https://twitter.com/langchainai)\n",
        "\n",
        "---\n",
        "\n",
        "## 🎉 おめでとうございます！\n",
        "\n",
        "このノートブックでLangChainの基礎を学びました。ここで学んだ概念を組み合わせることで、\n",
        "より複雑で実用的なAIアプリケーションを構築できます。\n",
        "\n",
        "**Happy Coding! 🚀**"
      ]
    },
    {
      "cell_type": "markdown",
      "metadata": {
        "id": "8VMIVaFQwrrG"
      },
      "source": [
        "---\n",
        "\n",
        "## 🔧 トラブルシューティング\n",
        "\n",
        "### よくある問題と解決方法\n",
        "\n",
        "1. **APIキーエラー**:\n",
        "   - OpenAIのAPIキーが正しく設定されているか確認\n",
        "   - APIキーの有効期限や利用制限を確認\n",
        "\n",
        "2. **インポートエラー**:\n",
        "   - すべての必要なパッケージがインストールされているか確認\n",
        "   - Google Colabのランタイムを再起動してみる\n",
        "\n",
        "3. **メモリ不足**:\n",
        "   - より小さいモデルを使用\n",
        "   - バッチサイズを減らす\n",
        "\n",
        "4. **レート制限**:\n",
        "   - API呼び出しの間に適切な遅延を入れる\n",
        "   - より高いティアのAPIプランを検討"
      ]
    }
  ],
  "metadata": {
    "kernelspec": {
      "display_name": "Python 3",
      "language": "python",
      "name": "python3"
    },
    "language_info": {
      "codemirror_mode": {
        "name": "ipython",
        "version": 3
      },
      "file_extension": ".py",
      "mimetype": "text/x-python",
      "name": "python",
      "nbconvert_exporter": "python",
      "pygments_lexer": "ipython3",
      "version": "3.10.0"
    },
    "colab": {
      "provenance": [],
      "toc_visible": true,
      "include_colab_link": true
    }
  },
  "nbformat": 4,
  "nbformat_minor": 0
}